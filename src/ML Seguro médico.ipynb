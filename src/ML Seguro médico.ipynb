{
    "cells": [
        {
            "cell_type": "markdown",
            "metadata": {},
            "source": [
                "# Explore here"
            ]
        },
        {
            "cell_type": "markdown",
            "metadata": {},
            "source": [
                "## Modelo Regresión Lineal"
            ]
        },
        {
            "cell_type": "code",
            "execution_count": 1,
            "metadata": {},
            "outputs": [],
            "source": [
                "import pandas as pd\n",
                "from sklearn.linear_model import LinearRegression\n",
                "from sklearn.metrics import r2_score\n",
                "import os"
            ]
        },
        {
            "cell_type": "code",
            "execution_count": 2,
            "metadata": {},
            "outputs": [],
            "source": [
                "# 1. Definir rutas y nombres de archivos\n",
                "BASE_PATH = \"../data/processed\"\n",
                "TRAIN_FILES = [\n",
                "    \"X_train_con_outliers.xlsx\",\n",
                "    \"X_train_sin_outliers.xlsx\",\n",
                "    \"X_train_con_outliers_norm.xlsx\",\n",
                "    \"X_train_sin_outliers_norm.xlsx\",\n",
                "    \"X_train_con_outliers_scal.xlsx\",\n",
                "    \"X_train_sin_outliers_scal.xlsx\"\n",
                "]\n",
                "TEST_FILES = [\n",
                "    \"X_test_con_outliers.xlsx\",\n",
                "    \"X_test_sin_outliers.xlsx\",\n",
                "    \"X_test_con_outliers_norm.xlsx\",\n",
                "    \"X_test_sin_outliers_norm.xlsx\",\n",
                "    \"X_test_con_outliers_scal.xlsx\",\n",
                "    \"X_test_sin_outliers_scal.xlsx\"\n",
                "]"
            ]
        },
        {
            "cell_type": "code",
            "execution_count": 5,
            "metadata": {},
            "outputs": [
                {
                    "name": "stdout",
                    "output_type": "stream",
                    "text": [
                        "Cargado: X_train_con_outliers.xlsx, Filas: 1069, Columnas: 6\n",
                        "Cargado: X_train_sin_outliers.xlsx, Filas: 1069, Columnas: 6\n",
                        "Cargado: X_train_con_outliers_norm.xlsx, Filas: 1069, Columnas: 6\n",
                        "Cargado: X_train_sin_outliers_norm.xlsx, Filas: 1069, Columnas: 6\n",
                        "Cargado: X_train_con_outliers_scal.xlsx, Filas: 1069, Columnas: 6\n",
                        "Cargado: X_train_sin_outliers_scal.xlsx, Filas: 1069, Columnas: 6\n",
                        "Cargado: X_test_con_outliers.xlsx, Filas: 268, Columnas: 6\n",
                        "Cargado: X_test_sin_outliers.xlsx, Filas: 268, Columnas: 6\n",
                        "Cargado: X_test_con_outliers_norm.xlsx, Filas: 268, Columnas: 6\n",
                        "Cargado: X_test_sin_outliers_norm.xlsx, Filas: 268, Columnas: 6\n",
                        "Cargado: X_test_con_outliers_scal.xlsx, Filas: 268, Columnas: 6\n",
                        "Cargado: X_test_sin_outliers_scal.xlsx, Filas: 268, Columnas: 6\n",
                        "\n",
                        "Datos de y_train: (1069, 1)\n",
                        "Datos de y_test: (268, 1)\n"
                    ]
                }
            ],
            "source": [
                "# 2. Cargar datos\n",
                "def load_data(base_path, filenames):\n",
                "    \"\"\"Carga archivos Excel y devuelve una lista de DataFrames.\"\"\"\n",
                "    dataframes = [pd.read_excel(os.path.join(base_path, file)) for file in filenames]\n",
                "    for i, df in enumerate(dataframes):\n",
                "        print(f\"Cargado: {filenames[i]}, Filas: {df.shape[0]}, Columnas: {df.shape[1]}\")\n",
                "    return dataframes\n",
                "\n",
                "X_train_list = load_data(BASE_PATH, TRAIN_FILES)\n",
                "X_test_list = load_data(BASE_PATH, TEST_FILES)\n",
                "y_train = pd.read_excel(os.path.join(BASE_PATH, \"y_train.xlsx\"))\n",
                "y_test = pd.read_excel(os.path.join(BASE_PATH, \"y_test.xlsx\"))\n",
                "\n",
                "print(\"\\nDatos de y_train:\", y_train.shape)\n",
                "print(\"Datos de y_test:\", y_test.shape)\n"
            ]
        },
        {
            "cell_type": "code",
            "execution_count": 8,
            "metadata": {},
            "outputs": [],
            "source": [
                "# 3. Entrenar y evaluar modelos\n",
                "results = []\n",
                "for i, (X_train, X_test) in enumerate(zip(X_train_list, X_test_list)):\n",
                "    model = LinearRegression()\n",
                "    model.fit(X_train, y_train)\n",
                "    y_train_pred = model.predict(X_train)\n",
                "    y_test_pred = model.predict(X_test)\n",
                "    \n",
                "    train_r2 = r2_score(y_train, y_train_pred)\n",
                "    test_r2 = r2_score(y_test, y_test_pred)\n",
                "    \n",
                "    results.append({\n",
                "        \"train_r2\": train_r2,\n",
                "        \"test_r2\": test_r2 })\n",
                "    "
            ]
        },
        {
            "cell_type": "code",
            "execution_count": 9,
            "metadata": {},
            "outputs": [
                {
                    "name": "stdout",
                    "output_type": "stream",
                    "text": [
                        "\n",
                        "Resumen de todos los modelos:\n",
                        "Modelo 1:\n",
                        "  Train: 0.7297\n",
                        "  Test: 0.8068\n",
                        "Modelo 2:\n",
                        "  Train: 0.1139\n",
                        "  Test: 0.1407\n",
                        "Modelo 3:\n",
                        "  Train: 0.7297\n",
                        "  Test: 0.8068\n",
                        "Modelo 4:\n",
                        "  Train: 0.1139\n",
                        "  Test: 0.1407\n",
                        "Modelo 5:\n",
                        "  Train: 0.7297\n",
                        "  Test: 0.8068\n",
                        "Modelo 6:\n",
                        "  Train: 0.1139\n",
                        "  Test: 0.1407\n"
                    ]
                }
            ],
            "source": [
                "# 4. Mostrar resumen de resultados\n",
                "print(\"\\nResumen de todos los modelos:\")\n",
                "for i, result in enumerate(results):\n",
                "    print(f\"Modelo {i+1}:\")\n",
                "    print(f\"  Train: {result['train_r2']:.4f}\")\n",
                "    print(f\"  Test: {result['test_r2']:.4f}\")"
            ]
        }
    ],
    "metadata": {
        "kernelspec": {
            "display_name": "Python 3",
            "language": "python",
            "name": "python3"
        },
        "language_info": {
            "codemirror_mode": {
                "name": "ipython",
                "version": 3
            },
            "file_extension": ".py",
            "mimetype": "text/x-python",
            "name": "python",
            "nbconvert_exporter": "python",
            "pygments_lexer": "ipython3",
            "version": "3.13.1"
        },
        "orig_nbformat": 4
    },
    "nbformat": 4,
    "nbformat_minor": 2
}
